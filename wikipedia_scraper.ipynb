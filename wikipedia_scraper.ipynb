{
 "cells": [
  {
   "cell_type": "markdown",
   "metadata": {},
   "source": [
    "# Import Modules"
   ]
  },
  {
   "cell_type": "code",
   "execution_count": 1,
   "metadata": {},
   "outputs": [],
   "source": [
    "import pandas as pd\n",
    "from bs4 import BeautifulSoup\n",
    "import re"
   ]
  },
  {
   "cell_type": "code",
   "execution_count": 3,
   "metadata": {},
   "outputs": [],
   "source": [
    "from modules.extract_page_source import extract_page_source"
   ]
  },
  {
   "cell_type": "markdown",
   "metadata": {},
   "source": [
    "# Automated Navigation with Selenium"
   ]
  },
  {
   "cell_type": "markdown",
   "metadata": {},
   "source": [
    "### Set web page and theme"
   ]
  },
  {
   "cell_type": "code",
   "execution_count": 4,
   "metadata": {},
   "outputs": [],
   "source": [
    "url = 'https://pt.wikipedia.org/wiki/Wikip%C3%A9dia:P%C3%A1gina_principal'"
   ]
  },
  {
   "cell_type": "code",
   "execution_count": 5,
   "metadata": {},
   "outputs": [],
   "source": [
    "themes = ['valor historico do dolar', 'seleção brasileira', 'copa do mundo 2010']\n",
    "theme = themes[1]"
   ]
  },
  {
   "cell_type": "code",
   "execution_count": 6,
   "metadata": {},
   "outputs": [
    {
     "name": "stdout",
     "output_type": "stream",
     "text": [
      "Página de desambiguação\n",
      "Salvando página wiki html ... \n",
      "Página salva com sucesso!\n"
     ]
    }
   ],
   "source": [
    "html = extract_page_source(url, theme)"
   ]
  },
  {
   "cell_type": "markdown",
   "metadata": {},
   "source": [
    "# Table Extraction with BeautifulSoup"
   ]
  },
  {
   "cell_type": "code",
   "execution_count": 7,
   "metadata": {},
   "outputs": [],
   "source": [
    "html_parsed = BeautifulSoup(html, 'html.parser')"
   ]
  },
  {
   "cell_type": "code",
   "execution_count": 8,
   "metadata": {},
   "outputs": [
    {
     "name": "stdout",
     "output_type": "stream",
     "text": [
      "Tabela infobox processada com sucesso!\n"
     ]
    },
    {
     "name": "stderr",
     "output_type": "stream",
     "text": [
      "C:\\Users\\luana\\AppData\\Local\\Temp\\ipykernel_11952\\4265395076.py:6: FutureWarning: Passing literal html to 'read_html' is deprecated and will be removed in a future version. To read from a literal string, wrap it in a 'StringIO' object.\n",
      "  df = pd.read_html(str(tabela_infobox))[0]\n"
     ]
    }
   ],
   "source": [
    "# Localiza a tabela com a classe 'infobox infobox_v2'\n",
    "tabela_infobox = html_parsed.find('table', {'class': 'infobox infobox_v2'})\n",
    "\n",
    "if tabela_infobox:\n",
    "    try:\n",
    "        df = pd.read_html(str(tabela_infobox))[0]\n",
    "\n",
    "        # # Salva a tabela em um arquivo CSV\n",
    "        # df.to_csv('tabela_infobox.csv', index=False)\n",
    "            \n",
    "        print('Tabela infobox processada com sucesso!')\n",
    "\n",
    "    except Exception as e:\n",
    "        print(f'Erro ao processar a tabela infobox: {e}')\n",
    "else:\n",
    "    print('Nenhuma tabela com a classe \"infobox infobox_v2\" foi encontrada na página.')"
   ]
  },
  {
   "cell_type": "code",
   "execution_count": 9,
   "metadata": {},
   "outputs": [
    {
     "name": "stdout",
     "output_type": "stream",
     "text": [
      "Tabela Infobox:\n"
     ]
    },
    {
     "data": {
      "text/html": [
       "<div>\n",
       "<style scoped>\n",
       "    .dataframe tbody tr th:only-of-type {\n",
       "        vertical-align: middle;\n",
       "    }\n",
       "\n",
       "    .dataframe tbody tr th {\n",
       "        vertical-align: top;\n",
       "    }\n",
       "\n",
       "    .dataframe thead tr th {\n",
       "        text-align: left;\n",
       "    }\n",
       "</style>\n",
       "<table border=\"1\" class=\"dataframe\">\n",
       "  <thead>\n",
       "    <tr>\n",
       "      <th></th>\n",
       "      <th colspan=\"2\" halign=\"left\">Brasil</th>\n",
       "    </tr>\n",
       "    <tr>\n",
       "      <th></th>\n",
       "      <th>Basquetebol</th>\n",
       "      <th>Basquetebol.1</th>\n",
       "    </tr>\n",
       "  </thead>\n",
       "  <tbody>\n",
       "    <tr>\n",
       "      <th>0</th>\n",
       "      <td>NaN</td>\n",
       "      <td>NaN</td>\n",
       "    </tr>\n",
       "    <tr>\n",
       "      <th>1</th>\n",
       "      <td>Informações gerais</td>\n",
       "      <td>Informações gerais</td>\n",
       "    </tr>\n",
       "    <tr>\n",
       "      <th>2</th>\n",
       "      <td>Federação</td>\n",
       "      <td>Confederação Brasileira de Basketball</td>\n",
       "    </tr>\n",
       "    <tr>\n",
       "      <th>3</th>\n",
       "      <td>Sigla FIBA</td>\n",
       "      <td>BRA</td>\n",
       "    </tr>\n",
       "    <tr>\n",
       "      <th>4</th>\n",
       "      <td>Confederação</td>\n",
       "      <td>FIBA Américas</td>\n",
       "    </tr>\n",
       "    <tr>\n",
       "      <th>5</th>\n",
       "      <td>Ranking FIBA</td>\n",
       "      <td>11º[1]</td>\n",
       "    </tr>\n",
       "    <tr>\n",
       "      <th>6</th>\n",
       "      <td>Treinador</td>\n",
       "      <td>Aleksandar Petrović (basquetebolista)</td>\n",
       "    </tr>\n",
       "    <tr>\n",
       "      <th>7</th>\n",
       "      <td>Jogos Olímpicos</td>\n",
       "      <td>Jogos Olímpicos</td>\n",
       "    </tr>\n",
       "    <tr>\n",
       "      <th>8</th>\n",
       "      <td>Participações</td>\n",
       "      <td>15 (Primeira em 1936)</td>\n",
       "    </tr>\n",
       "    <tr>\n",
       "      <th>9</th>\n",
       "      <td>Melhor</td>\n",
       "      <td>Bronze (1948, 1960, 1964)</td>\n",
       "    </tr>\n",
       "    <tr>\n",
       "      <th>10</th>\n",
       "      <td>Última</td>\n",
       "      <td>9° (2016)</td>\n",
       "    </tr>\n",
       "    <tr>\n",
       "      <th>11</th>\n",
       "      <td>Campeonato Mundial</td>\n",
       "      <td>Campeonato Mundial</td>\n",
       "    </tr>\n",
       "    <tr>\n",
       "      <th>12</th>\n",
       "      <td>Participações</td>\n",
       "      <td>18 (Primeira em 1950)</td>\n",
       "    </tr>\n",
       "    <tr>\n",
       "      <th>13</th>\n",
       "      <td>Melhor</td>\n",
       "      <td>Ouro (1959, 1963)</td>\n",
       "    </tr>\n",
       "    <tr>\n",
       "      <th>14</th>\n",
       "      <td>Última</td>\n",
       "      <td>13º (2023)</td>\n",
       "    </tr>\n",
       "    <tr>\n",
       "      <th>15</th>\n",
       "      <td>Copa América de Basquetebol</td>\n",
       "      <td>Copa América de Basquetebol</td>\n",
       "    </tr>\n",
       "    <tr>\n",
       "      <th>16</th>\n",
       "      <td>Participações</td>\n",
       "      <td>18 (Primeira em 1980)</td>\n",
       "    </tr>\n",
       "    <tr>\n",
       "      <th>17</th>\n",
       "      <td>Melhor</td>\n",
       "      <td>Ouro (1984, 1988, 2005, 2009)</td>\n",
       "    </tr>\n",
       "    <tr>\n",
       "      <th>18</th>\n",
       "      <td>Última</td>\n",
       "      <td>2º (2022)</td>\n",
       "    </tr>\n",
       "    <tr>\n",
       "      <th>19</th>\n",
       "      <td>1º uniforme 2º uniforme</td>\n",
       "      <td>1º uniforme 2º uniforme</td>\n",
       "    </tr>\n",
       "    <tr>\n",
       "      <th>20</th>\n",
       "      <td>1º uniforme</td>\n",
       "      <td>2º uniforme</td>\n",
       "    </tr>\n",
       "  </tbody>\n",
       "</table>\n",
       "</div>"
      ],
      "text/plain": [
       "                         Brasil                                       \n",
       "                    Basquetebol                          Basquetebol.1\n",
       "0                           NaN                                    NaN\n",
       "1            Informações gerais                     Informações gerais\n",
       "2                     Federação  Confederação Brasileira de Basketball\n",
       "3                    Sigla FIBA                                    BRA\n",
       "4                  Confederação                          FIBA Américas\n",
       "5                  Ranking FIBA                                 11º[1]\n",
       "6                     Treinador  Aleksandar Petrović (basquetebolista)\n",
       "7               Jogos Olímpicos                        Jogos Olímpicos\n",
       "8                 Participações                  15 (Primeira em 1936)\n",
       "9                        Melhor              Bronze (1948, 1960, 1964)\n",
       "10                       Última                              9° (2016)\n",
       "11           Campeonato Mundial                     Campeonato Mundial\n",
       "12                Participações                  18 (Primeira em 1950)\n",
       "13                       Melhor                      Ouro (1959, 1963)\n",
       "14                       Última                             13º (2023)\n",
       "15  Copa América de Basquetebol            Copa América de Basquetebol\n",
       "16                Participações                  18 (Primeira em 1980)\n",
       "17                       Melhor          Ouro (1984, 1988, 2005, 2009)\n",
       "18                       Última                              2º (2022)\n",
       "19      1º uniforme 2º uniforme                1º uniforme 2º uniforme\n",
       "20                  1º uniforme                            2º uniforme"
      ]
     },
     "metadata": {},
     "output_type": "display_data"
    }
   ],
   "source": [
    "# Exibe a tabela processada\n",
    "print('Tabela Infobox:')\n",
    "display(df)"
   ]
  }
 ],
 "metadata": {
  "kernelspec": {
   "display_name": "Python 3",
   "language": "python",
   "name": "python3"
  },
  "language_info": {
   "codemirror_mode": {
    "name": "ipython",
    "version": 3
   },
   "file_extension": ".py",
   "mimetype": "text/x-python",
   "name": "python",
   "nbconvert_exporter": "python",
   "pygments_lexer": "ipython3",
   "version": "3.11.8"
  }
 },
 "nbformat": 4,
 "nbformat_minor": 2
}
