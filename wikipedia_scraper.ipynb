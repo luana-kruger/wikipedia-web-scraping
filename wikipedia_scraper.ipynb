{
 "cells": [
  {
   "cell_type": "markdown",
   "metadata": {},
   "source": [
    "# Import Modules"
   ]
  },
  {
   "cell_type": "code",
   "execution_count": 1,
   "metadata": {},
   "outputs": [],
   "source": [
    "import pandas as pd\n",
    "from bs4 import BeautifulSoup"
   ]
  },
  {
   "cell_type": "code",
   "execution_count": 2,
   "metadata": {},
   "outputs": [],
   "source": [
    "from selenium import webdriver\n",
    "from selenium.webdriver.common.by import By\n",
    "from selenium.webdriver.common.keys import Keys\n",
    "from selenium.webdriver.support.ui import WebDriverWait\n",
    "from selenium.webdriver.support import expected_conditions as EC"
   ]
  },
  {
   "cell_type": "markdown",
   "metadata": {},
   "source": [
    "# Automated Navigation with Selenium"
   ]
  },
  {
   "cell_type": "markdown",
   "metadata": {},
   "source": [
    "### Set web page"
   ]
  },
  {
   "cell_type": "code",
   "execution_count": 3,
   "metadata": {},
   "outputs": [],
   "source": [
    "url = 'https://pt.wikipedia.org/wiki/Wikip%C3%A9dia:P%C3%A1gina_principal'"
   ]
  },
  {
   "cell_type": "markdown",
   "metadata": {},
   "source": [
    "### Automating Search with Chrome WebDriver"
   ]
  },
  {
   "cell_type": "code",
   "execution_count": 7,
   "metadata": {},
   "outputs": [],
   "source": [
    "# Inicializa uma nova instância do navegador Chrome\n",
    "driver = webdriver.Chrome()\n",
    "\n",
    "# Navega para a página desejada\n",
    "driver.get(url)"
   ]
  },
  {
   "cell_type": "code",
   "execution_count": 17,
   "metadata": {},
   "outputs": [],
   "source": [
    "# Localiza o botão de pesquisa na página usando o XPATH e clica nele para iniciar a pesquisa\n",
    "search_button = driver.find_element(By.XPATH,'//*[@id=\"p-search\"]/a/span[1]')\n",
    "search_button.click()"
   ]
  },
  {
   "cell_type": "code",
   "execution_count": null,
   "metadata": {},
   "outputs": [],
   "source": [
    "# # Espera até que o campo de pesquisa esteja disponível e interativo\n",
    "# search_box = WebDriverWait(driver, 10).until(\n",
    "#     EC.element_to_be_clickable((By.NAME, 'search'))\n",
    "# )"
   ]
  },
  {
   "cell_type": "markdown",
   "metadata": {},
   "source": [
    "### Processing Search Results "
   ]
  },
  {
   "cell_type": "code",
   "execution_count": 18,
   "metadata": {},
   "outputs": [],
   "source": [
    "themes = ['valor historico do dolar', 'seleção brasileira', 'copa do mundo 2010']\n",
    "theme = themes[0]\n",
    "\n",
    "# Localiza o campo de pesquisa na página usando o atributo NAME\n",
    "search_box = driver.find_element(By.NAME, 'search')\n",
    "\n",
    "# Envia o termo de pesquisa\n",
    "search_box.send_keys(theme)\n",
    "search_box.submit()\n",
    "\n",
    "## Advanced search (exemplo de tema: 'valor historico do dolar' ou 'comida brasileira')\n",
    "adv_search = driver.find_elements(By.XPATH, '//*[@id=\"firstHeading\"]')\n",
    "\n",
    "## Página de desambiguação (exemplo de tema: 'seleção brasileira')\n",
    "pg_disambig = driver.find_elements(By.XPATH, '//*[@id=\"disambig\"]/table/tbody/tr/td[1]/span/a/img')"
   ]
  },
  {
   "cell_type": "code",
   "execution_count": 19,
   "metadata": {},
   "outputs": [
    {
     "name": "stdout",
     "output_type": "stream",
     "text": [
      "Pesquisa avançada\n"
     ]
    }
   ],
   "source": [
    "## Para os casos de 'Pesquisa avançada' e 'Página de desambiguação': \n",
    "## >> iremos escolher a primeira página que estiver disponível\n",
    "\n",
    "if pg_disambig:\n",
    "    print('Página de desambiguação')\n",
    "    driver.find_element(By.XPATH, '//*[@id=\"mw-content-text\"]/div[1]/ul/li[1]/a').click()\n",
    "elif adv_search:\n",
    "    if adv_search[0].text == 'Resultados da pesquisa':\n",
    "        print('Pesquisa avançada')\n",
    "        driver.find_element(By.XPATH, '//*[@id=\"mw-content-text\"]/div[3]/div[4]/ul/li[1]/div[2]/div[2]/div[1]/a').click()\n",
    "    else:\n",
    "        print('Página Wiki')"
   ]
  }
 ],
 "metadata": {
  "kernelspec": {
   "display_name": "Python 3",
   "language": "python",
   "name": "python3"
  },
  "language_info": {
   "codemirror_mode": {
    "name": "ipython",
    "version": 3
   },
   "file_extension": ".py",
   "mimetype": "text/x-python",
   "name": "python",
   "nbconvert_exporter": "python",
   "pygments_lexer": "ipython3",
   "version": "3.11.8"
  }
 },
 "nbformat": 4,
 "nbformat_minor": 2
}
